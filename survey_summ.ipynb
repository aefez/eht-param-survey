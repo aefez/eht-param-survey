{
 "cells": [
  {
   "cell_type": "markdown",
   "metadata": {},
   "source": [
    "# Welcome to the top-set-parameters-selection notebook\n",
    "### Let's start by loading some modules"
   ]
  },
  {
   "cell_type": "code",
   "execution_count": 25,
   "metadata": {},
   "outputs": [
    {
     "name": "stdout",
     "output_type": "stream",
     "text": [
      "The autoreload extension is already loaded. To reload it, use:\n",
      "  %reload_ext autoreload\n"
     ]
    }
   ],
   "source": [
    "%load_ext autoreload\n",
    "%autoreload 2\n",
    "\n",
    "from survey_summ import SurveySummary\n",
    "import matplotlib.pyplot as plt\n",
    "from glob import glob\n",
    "#import os"
   ]
  },
  {
   "cell_type": "markdown",
   "metadata": {},
   "source": [
    "### Define the paths where you want to load the files and store the results\n",
    "- If you are using just one big table per synthetic model (preferred), execute just the cell below.\n",
    "- Otherwise, symlink all files to a common directory and load from there, as done in the second cell."
   ]
  },
  {
   "cell_type": "code",
   "execution_count": 26,
   "metadata": {},
   "outputs": [],
   "source": [
    "inpath = '/home/aefez/Analysis/EHT/SgrA/survey_imaging_ws/05_14_sw/all/synthetic/'\n",
    "outpath = inpath + '../summary/'"
   ]
  },
  {
   "cell_type": "raw",
   "metadata": {},
   "source": [
    "sympath = inpath + '../symlinks/'\n",
    "inpaths = glob(inpath+'../*/*/')\n",
    "\n",
    "if os.path.exists(sympath): os.system('rm -rf '+sympath) \n",
    "if not os.path.exists(sympath): os.makedirs(sympath)\n",
    "for path in inpaths:\n",
    "    os.system('ln -s '+path+'*_stats.txt '+sympath)\n",
    "    os.system('ln -s '+path+'*_params.txt '+sympath)"
   ]
  },
  {
   "cell_type": "markdown",
   "metadata": {},
   "source": [
    "### Define the synthetic models, parameters, and the metric to analyze"
   ]
  },
  {
   "cell_type": "code",
   "execution_count": 27,
   "metadata": {},
   "outputs": [],
   "source": [
    "models =['crescent', 'simple_disk',\n",
    "         'double_source', 'elliptical_disk', 'ring']\n",
    "param_list = ['avgtime', 'sys_noise', 'sys_noise_imaging', 'noise_floor',\n",
    "              'fwhm', 'tv2', 'simple', 'l1', 'tv', 'rgauss']\n",
    "param_list_sw = ['avgtime', 'sys_noise', 'noise_floor', 'fwhm', 'sw_amp',\n",
    "                 'sw_cphase', 'sw_logcamp', 'sw_bs', 'variance_img_diff']\n",
    "metric = 'nxcorr_descattered'\n",
    "threshold = 0.92\n",
    "model_thres = {model: threshold for model in models}"
   ]
  },
  {
   "cell_type": "markdown",
   "metadata": {},
   "source": [
    "### Run the summary"
   ]
  },
  {
   "cell_type": "code",
   "execution_count": 30,
   "metadata": {
    "scrolled": false
   },
   "outputs": [
    {
     "name": "stdout",
     "output_type": "stream",
     "text": [
      "\n",
      "---> Getting list of table files\n",
      "\n",
      "7 table files were found\n",
      "\n",
      "---> Creating table with all parameters\n"
     ]
    },
    {
     "data": {
      "application/vnd.jupyter.widget-view+json": {
       "model_id": "b9f4f37f879e407db23ce91fd5293b45",
       "version_major": 2,
       "version_minor": 0
      },
      "text/plain": [
       "HBox(children=(FloatProgress(value=0.0, max=7.0), HTML(value='')))"
      ]
     },
     "metadata": {},
     "output_type": "display_data"
    },
    {
     "name": "stdout",
     "output_type": "stream",
     "text": [
      "Unknown model \"ring+hs_period30\"\n",
      "model: double_source\n",
      "model: simple_disk\n",
      "Unknown model \"ring+hs_period10\"\n",
      "model: crescent\n",
      "model: elliptical_disk\n",
      "model: ring\n",
      "\n",
      "\n",
      "---> Filtering table\n"
     ]
    },
    {
     "data": {
      "application/vnd.jupyter.widget-view+json": {
       "model_id": "7b60aa1747bb426cb24f61e1c124506c",
       "version_major": 2,
       "version_minor": 0
      },
      "text/plain": [
       "HBox(children=(FloatProgress(value=0.0, max=5.0), HTML(value='')))"
      ]
     },
     "metadata": {},
     "output_type": "display_data"
    },
    {
     "name": "stdout",
     "output_type": "stream",
     "text": [
      "Model \"crescent\" has 854 matches\n",
      "Model \"simple_disk\" has 864 matches\n",
      "Model \"double_source\" has 9 matches\n",
      "Model \"elliptical_disk\" has 807 matches\n",
      "Model \"ring\" has 863 matches\n",
      "\n",
      "\n",
      "---> Done!\n",
      "\n"
     ]
    }
   ],
   "source": [
    "summ = SurveySummary(inpath, outpath, models, param_list_sw, metric,\n",
    "                     model_thres)\n",
    "summ.run()"
   ]
  },
  {
   "cell_type": "markdown",
   "metadata": {},
   "source": [
    "### Show the top set parameters selected"
   ]
  },
  {
   "cell_type": "code",
   "execution_count": 22,
   "metadata": {},
   "outputs": [
    {
     "data": {
      "text/html": [
       "<div>\n",
       "<style scoped>\n",
       "    .dataframe tbody tr th:only-of-type {\n",
       "        vertical-align: middle;\n",
       "    }\n",
       "\n",
       "    .dataframe tbody tr th {\n",
       "        vertical-align: top;\n",
       "    }\n",
       "\n",
       "    .dataframe thead th {\n",
       "        text-align: right;\n",
       "    }\n",
       "</style>\n",
       "<table border=\"1\" class=\"dataframe\">\n",
       "  <thead>\n",
       "    <tr style=\"text-align: right;\">\n",
       "      <th></th>\n",
       "      <th>noise_floor</th>\n",
       "      <th>fwhm</th>\n",
       "      <th>sw_amp</th>\n",
       "      <th>sw_cphase</th>\n",
       "      <th>sw_logcamp</th>\n",
       "      <th>sw_bs</th>\n",
       "      <th>variance_img_diff</th>\n",
       "      <th>metric_crescent</th>\n",
       "      <th>avgtime</th>\n",
       "      <th>sys_noise</th>\n",
       "      <th>...</th>\n",
       "      <th>metric_elliptical_disk</th>\n",
       "      <th>model_elliptical_disk</th>\n",
       "      <th>id_elliptical_disk</th>\n",
       "      <th>pfile_elliptical_disk</th>\n",
       "      <th>sfile_elliptical_disk</th>\n",
       "      <th>metric_ring</th>\n",
       "      <th>model_ring</th>\n",
       "      <th>id_ring</th>\n",
       "      <th>pfile</th>\n",
       "      <th>sfile</th>\n",
       "    </tr>\n",
       "  </thead>\n",
       "  <tbody>\n",
       "    <tr>\n",
       "      <th>0</th>\n",
       "      <td>-1</td>\n",
       "      <td>80</td>\n",
       "      <td>0.1</td>\n",
       "      <td>10.0</td>\n",
       "      <td>100.0</td>\n",
       "      <td>1.0</td>\n",
       "      <td>5.000000e-08</td>\n",
       "      <td>0.925617</td>\n",
       "      <td>scan</td>\n",
       "      <td>0.02</td>\n",
       "      <td>...</td>\n",
       "      <td>0.945714</td>\n",
       "      <td>elliptical_disk</td>\n",
       "      <td>00492</td>\n",
       "      <td>elliptical_disk_netcal_LMTcal_scan_02sys_00492...</td>\n",
       "      <td>elliptical_disk_netcal_LMTcal_scan_02sys_00492...</td>\n",
       "      <td>0.950298</td>\n",
       "      <td>ring</td>\n",
       "      <td>00492</td>\n",
       "      <td>ring_netcal_LMTcal_scan_02sys_00492_params.txt</td>\n",
       "      <td>ring_netcal_LMTcal_scan_02sys_00492_sw_stats.txt</td>\n",
       "    </tr>\n",
       "    <tr>\n",
       "      <th>1</th>\n",
       "      <td>-1</td>\n",
       "      <td>80</td>\n",
       "      <td>0.1</td>\n",
       "      <td>100.0</td>\n",
       "      <td>100.0</td>\n",
       "      <td>1.0</td>\n",
       "      <td>5.000000e-08</td>\n",
       "      <td>0.937108</td>\n",
       "      <td>scan</td>\n",
       "      <td>0.02</td>\n",
       "      <td>...</td>\n",
       "      <td>0.948792</td>\n",
       "      <td>elliptical_disk</td>\n",
       "      <td>00501</td>\n",
       "      <td>elliptical_disk_netcal_LMTcal_scan_02sys_00501...</td>\n",
       "      <td>elliptical_disk_netcal_LMTcal_scan_02sys_00501...</td>\n",
       "      <td>0.960552</td>\n",
       "      <td>ring</td>\n",
       "      <td>00501</td>\n",
       "      <td>ring_netcal_LMTcal_scan_02sys_00501_params.txt</td>\n",
       "      <td>ring_netcal_LMTcal_scan_02sys_00501_sw_stats.txt</td>\n",
       "    </tr>\n",
       "    <tr>\n",
       "      <th>2</th>\n",
       "      <td>-1</td>\n",
       "      <td>80</td>\n",
       "      <td>0.1</td>\n",
       "      <td>10.0</td>\n",
       "      <td>100.0</td>\n",
       "      <td>1.0</td>\n",
       "      <td>1.000000e-07</td>\n",
       "      <td>0.929456</td>\n",
       "      <td>scan</td>\n",
       "      <td>0.02</td>\n",
       "      <td>...</td>\n",
       "      <td>0.930087</td>\n",
       "      <td>elliptical_disk</td>\n",
       "      <td>00636</td>\n",
       "      <td>elliptical_disk_netcal_LMTcal_scan_02sys_00636...</td>\n",
       "      <td>elliptical_disk_netcal_LMTcal_scan_02sys_00636...</td>\n",
       "      <td>0.964286</td>\n",
       "      <td>ring</td>\n",
       "      <td>00636</td>\n",
       "      <td>ring_netcal_LMTcal_scan_02sys_00636_params.txt</td>\n",
       "      <td>ring_netcal_LMTcal_scan_02sys_00636_sw_stats.txt</td>\n",
       "    </tr>\n",
       "  </tbody>\n",
       "</table>\n",
       "<p>3 rows × 34 columns</p>\n",
       "</div>"
      ],
      "text/plain": [
       "   noise_floor  fwhm  sw_amp  sw_cphase  sw_logcamp  sw_bs  variance_img_diff  \\\n",
       "0           -1    80     0.1       10.0       100.0    1.0       5.000000e-08   \n",
       "1           -1    80     0.1      100.0       100.0    1.0       5.000000e-08   \n",
       "2           -1    80     0.1       10.0       100.0    1.0       1.000000e-07   \n",
       "\n",
       "   metric_crescent avgtime  sys_noise  ... metric_elliptical_disk  \\\n",
       "0         0.925617    scan       0.02  ...               0.945714   \n",
       "1         0.937108    scan       0.02  ...               0.948792   \n",
       "2         0.929456    scan       0.02  ...               0.930087   \n",
       "\n",
       "  model_elliptical_disk id_elliptical_disk  \\\n",
       "0       elliptical_disk              00492   \n",
       "1       elliptical_disk              00501   \n",
       "2       elliptical_disk              00636   \n",
       "\n",
       "                               pfile_elliptical_disk  \\\n",
       "0  elliptical_disk_netcal_LMTcal_scan_02sys_00492...   \n",
       "1  elliptical_disk_netcal_LMTcal_scan_02sys_00501...   \n",
       "2  elliptical_disk_netcal_LMTcal_scan_02sys_00636...   \n",
       "\n",
       "                               sfile_elliptical_disk metric_ring model_ring  \\\n",
       "0  elliptical_disk_netcal_LMTcal_scan_02sys_00492...    0.950298       ring   \n",
       "1  elliptical_disk_netcal_LMTcal_scan_02sys_00501...    0.960552       ring   \n",
       "2  elliptical_disk_netcal_LMTcal_scan_02sys_00636...    0.964286       ring   \n",
       "\n",
       "  id_ring                                           pfile  \\\n",
       "0   00492  ring_netcal_LMTcal_scan_02sys_00492_params.txt   \n",
       "1   00501  ring_netcal_LMTcal_scan_02sys_00501_params.txt   \n",
       "2   00636  ring_netcal_LMTcal_scan_02sys_00636_params.txt   \n",
       "\n",
       "                                              sfile  \n",
       "0  ring_netcal_LMTcal_scan_02sys_00492_sw_stats.txt  \n",
       "1  ring_netcal_LMTcal_scan_02sys_00501_sw_stats.txt  \n",
       "2  ring_netcal_LMTcal_scan_02sys_00636_sw_stats.txt  \n",
       "\n",
       "[3 rows x 34 columns]"
      ]
     },
     "execution_count": 22,
     "metadata": {},
     "output_type": "execute_result"
    }
   ],
   "source": [
    "summ.table_top"
   ]
  },
  {
   "cell_type": "markdown",
   "metadata": {},
   "source": [
    "### Plot the results\n",
    "Play with the figure size depending on the number of parameters combinations selected"
   ]
  },
  {
   "cell_type": "code",
   "execution_count": 23,
   "metadata": {},
   "outputs": [
    {
     "data": {
      "image/png": "[encoded data removed]",
      "text/plain": [
       "<Figure size 576x432 with 1 Axes>"
      ]
     },
     "metadata": {
      "needs_background": "light"
     },
     "output_type": "display_data"
    }
   ],
   "source": [
    "plt.rc('font', size=15)\n",
    "fig = plt.figure(figsize=(8, 6))\n",
    "\n",
    "for model in models:\n",
    "    col = 'metric_' + model\n",
    "    try:\n",
    "        val = summ.table_top[col].values\n",
    "    except KeyError:\n",
    "        print('Model \"{}\" not found'.format(model))\n",
    "        continue\n",
    "    \n",
    "    ax = plt.gca()\n",
    "    ax.plot(val, marker='o', ms=10, label=model)\n",
    "    ax.grid()\n",
    "    ax.set_xticks(range(len(summ.table_top.index)))\n",
    "    if 'nxcorr' in metric: ax.set_ylabel('nxcorr')\n",
    "    else: ax.set_ylabel('metric')\n",
    "    ax.set_xticklabels('')\n",
    "    ax.legend(loc=(-0.0, 1.01), ncol=3, fontsize=12, columnspacing=1.)\n",
    "    \n",
    "    df = summ.table_top[summ.param_list]\n",
    "    df = df.T\n",
    "    cell_text = []\n",
    "    for row in range(len(df.index)):\n",
    "        cell_text.append([x for x in df.iloc[row]])\n",
    "    tb = ax.table(cellText=cell_text, rowLabels=df.index.values,\n",
    "                  colLabels=None, loc='bottom',\n",
    "                  rowColours=['lightgray']*len(df.index))\n",
    "    #tb.set_fontsize(10)\n",
    "    tb.scale(1, 2)\n",
    "\n",
    "fig.savefig(outpath+'topset_plot.png', format='png', dpi=300, bbox_inches='tight',\n",
    "            pad_inches=0.05)"
   ]
  },
  {
   "cell_type": "markdown",
   "metadata": {},
   "source": [
    "### Check model's id"
   ]
  },
  {
   "cell_type": "code",
   "execution_count": 24,
   "metadata": {},
   "outputs": [
    {
     "name": "stdout",
     "output_type": "stream",
     "text": [
      "0    00492\n",
      "1    00501\n",
      "2    00636\n",
      "Name: id_crescent, dtype: object \n",
      "\n",
      "0    00492\n",
      "1    00501\n",
      "2    00636\n",
      "Name: id_simple_disk, dtype: object \n",
      "\n",
      "0    00492\n",
      "1    00501\n",
      "2    00636\n",
      "Name: id_double_source, dtype: object \n",
      "\n",
      "0    00492\n",
      "1    00501\n",
      "2    00636\n",
      "Name: id_elliptical_disk, dtype: object \n",
      "\n",
      "0    00492\n",
      "1    00501\n",
      "2    00636\n",
      "Name: id_ring, dtype: object \n",
      "\n"
     ]
    }
   ],
   "source": [
    "for model in models:\n",
    "    col = 'id_' + model\n",
    "    try:\n",
    "        val = summ.table_top[col]\n",
    "    except KeyError:\n",
    "        print('Model \"{}\" not found'.format(model))\n",
    "        continue\n",
    "        \n",
    "    print(val, '\\n')"
   ]
  },
  {
   "cell_type": "code",
   "execution_count": null,
   "metadata": {},
   "outputs": [],
   "source": []
  }
 ],
 "metadata": {
  "kernelspec": {
   "display_name": "Python 3",
   "language": "python",
   "name": "python3"
  },
  "language_info": {
   "codemirror_mode": {
    "name": "ipython",
    "version": 3
   },
   "file_extension": ".py",
   "mimetype": "text/x-python",
   "name": "python",
   "nbconvert_exporter": "python",
   "pygments_lexer": "ipython3",
   "version": "3.7.7"
  }
 },
 "nbformat": 4,
 "nbformat_minor": 4
}
